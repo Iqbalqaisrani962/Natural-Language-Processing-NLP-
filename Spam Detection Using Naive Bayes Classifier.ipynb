{
 "cells": [
  {
   "cell_type": "markdown",
   "id": "b086d5b2",
   "metadata": {},
   "source": [
    "#### Download/Install the Required Libraries"
   ]
  },
  {
   "cell_type": "code",
   "execution_count": 2,
   "id": "87bba00a",
   "metadata": {},
   "outputs": [],
   "source": [
    "import sys\n",
    "!{sys.executable} -m pip install -q --upgrade pip\n",
    "!{sys.executable} -m pip install -q numpy pandas sklearn\n",
    "!{sys.executable} -m pip install -q nltk spacy gensim wordcloud textblob contractions clean-text unidecode "
   ]
  },
  {
   "cell_type": "code",
   "execution_count": 4,
   "id": "a465ce3b",
   "metadata": {},
   "outputs": [
    {
     "name": "stdout",
     "output_type": "stream",
     "text": [
      "3.10.9\n"
     ]
    }
   ],
   "source": [
    "from platform import python_version\n",
    "print(python_version())"
   ]
  },
  {
   "cell_type": "markdown",
   "id": "b5e878c8",
   "metadata": {},
   "source": [
    "# From Bayes' Theorum to Naive Bayes' Classifier"
   ]
  },
  {
   "cell_type": "markdown",
   "id": "1ef1b118",
   "metadata": {},
   "source": [
    "## Marginal Probability\n",
    "- ***Probability*** defines the ***`likelihood of occurance of an event`*** \n",
    "- Defined as the ratio of the number of favourite outcomes to the total number of outcomes of an event\n",
    ">-      P(Event) = (Number of favourite outcomes)/(Total outcomes)\n",
    "- Marginal Probability is the probability of an event irrespective of all the other events\n",
    "- The value of the probability of an event to happen can lie between 0 to 1 because the favourable number of outcomes can never cross the total number of outcomes\n",
    "- When the probability of something approaches 1, then it means it is very likely, and when the probablity approaches to 0, then it means that it is very unlikely\n",
    "- ***Independent Events***: Two events are said to independent, if the probability of occuring of one event has no impact on the probability of occuring of another event\n",
    "- In order to compute the probability of two independent events, we use ***`Join Probability` (Common Area)***\n",
    ">- P(A and B) = P(A) * P(B)\n",
    "- ***Independent Events***: Two events are said to dependent happing one after another, if the probability of occuring of one event has impact on the probability of occuring of another event \n",
    ">- Dependent events and Conditional Probability\n",
    ">- P(A|B) = P(A and B)/P(B)\n",
    ">- P(B|A) = P(A and B)/P(A)\n",
    "- In case of two independent events, \n",
    ">- P(A|B) = P(A and B)/P(B) = P(A) * P(B)/P(B) = P(A)"
   ]
  },
  {
   "cell_type": "markdown",
   "id": "46ed422f",
   "metadata": {},
   "source": [
    "## From Conditional Probability to Bayes' Theorum\n",
    "- It is a way of calculating conditional probability without the joint probability\n",
    ">- P(A|B) = (P(A) * P(B|A))/P(B)\n",
    "- P(A|B) is ***`Posterior Probability/Conditional Probability`***: Probability of an event that is calculated after all the information related to the event has been accounted for\n",
    "- P(A) is ***`Prior Probability`***: Probability of an event that is calculated before considering the new information obtained\n",
    "- P(B|A) is ***`Likelihood`***: Reverse of Posterior Probability\n",
    "- P(B) is known as ***`Normalization Constant`***"
   ]
  },
  {
   "cell_type": "markdown",
   "id": "81a8da51",
   "metadata": {},
   "source": [
    "# Naive Bayes' Classifier\n",
    "- It is a probabilistic ML algorithm that uses Bayes' Theorum for supervised ML classifications. \n",
    "- This algorithm makes an assumptions that all the input features are ***`independent`*** to each other and make ***`Equal`*** contributions \n",
    "- These are the three types of Naive Bayes' Theorum under the Scikit-Learn Library\n",
    "     1) ***Bernoulli Naive Bayes' (`BernoulliNB`)***: It is used when all the input features are binary such that they take only two values. Means 0's can represent \"Word does not occur in the document\" and 1's represent \"Word occurs in the documents\"\n",
    "     2) ***Multinomial Naive Bayes' (`MultinomialNB`)***: It is used when all the input features are discrete having integer values. For example: frequency of occurrences of a term/word in the document. It is suitable for the classifications with discrete features (word counts for text classification). However, in practice, fractional counts such as tf-idf may also work\n",
    "     3) ***Gaussian Naiva Bayes' (`GaussianNB`)***: It is used when the input features are continuous values (age, distance, inflation etc), whose probabilities can be modeled using a Gaussian/Normal Distribution. \n",
    "- The output labels can be\n",
    "     1) ***Binary***: Assign observation to one of two groups (spam/ham, yes/no, healthy/sick, etc)\n",
    "     2) ***Multinomial***: Assign observation to one to N-groups (happy, sad, fear, surprise, joy) \n",
    "     3) ***Ordinal***: Assign one of N-ordered groups (baby, child, adult, young, elder, old)\n",
    "     4) ***Multiclass***: Assign obserrvation to K of N groups. Assign more than one label to an observation. (happy, baby), (sad, child), (angry, adult)"
   ]
  },
  {
   "cell_type": "markdown",
   "id": "836fd045",
   "metadata": {},
   "source": [
    ">-   P(y/ x1, x2, x3) = P(y) * P(x1/y) * P(x2/y) * P(x3/y) / P(x1) * P(x2) * P(x3)\n",
    "- ***As denominator value remains same for all the labels, so we can remove it after replacing proportional sign with equal sign***\n",
    "- After that equal will become\n",
    ">-   P(y/ x1, x2, x3) ***`proportional to`*** argmax(P(y) * P(x1/y) * P(x2/y) * P(x3/y)) "
   ]
  },
  {
   "cell_type": "markdown",
   "id": "3c32b75b",
   "metadata": {},
   "source": [
    "#### Example # 01"
   ]
  },
  {
   "cell_type": "markdown",
   "id": "58f96201",
   "metadata": {},
   "source": [
    ">-    P(y=yes | x1 = cloudy, x2 = cool, x3 = normal)  ***=***  P(y = yes) * P(y|x1) * P(y|x2) * P(y|x3)\n",
    ">-    P(y=no | x1 = cloudy, x2 = cool, x3 = normal)  ***=***  P(y = no) * P(y|x1) * P(y|x2) * P(y|x3)\n",
    "- ***IF probability value of yes is greater than no than it will rain on this day***"
   ]
  },
  {
   "cell_type": "markdown",
   "id": "157a0398",
   "metadata": {},
   "source": [
    "***Calculate the word count, conditional probabilities, and perform Laplace Smoothing***\n",
    ">- frequency of a word in the document = freq(w,class)\n",
    ">- Conditional Probability = P(w1 | class) = freq(w1,class)/N(total number of word in the class-->\n",
    "+ve/-ve class)\n",
    "- ***There may a word in the document with frequency in any class, to address this issue we use, laplace smoothing***\n",
    ">- P(w1 | class) = (freq(w1,class) + 1)/(\n",
    "N(total number of word class) + V(number of unique words in the vocabulary)\n",
    "- ***Power Words: Words in the document that define the class of the document***\n",
    "- ***Opposite words from power words are those words that have almost same probabilities in both the class, so they don't effect the model***"
   ]
  },
  {
   "cell_type": "markdown",
   "id": "b4dcd987",
   "metadata": {},
   "source": [
    "#### Load Downloaded dataset (`SMSSpanCollection`) in Pandas DataFrame"
   ]
  },
  {
   "cell_type": "code",
   "execution_count": 1,
   "id": "1c591fb4",
   "metadata": {},
   "outputs": [],
   "source": [
    "import numpy as np\n",
    "import pandas as pd\n",
    "import matplotlib.pyplot as plt\n",
    "import seaborn as sns\n",
    "import wordcloud"
   ]
  },
  {
   "cell_type": "code",
   "execution_count": 36,
   "id": "8b3a1153",
   "metadata": {},
   "outputs": [
    {
     "data": {
      "text/html": [
       "<div>\n",
       "<style scoped>\n",
       "    .dataframe tbody tr th:only-of-type {\n",
       "        vertical-align: middle;\n",
       "    }\n",
       "\n",
       "    .dataframe tbody tr th {\n",
       "        vertical-align: top;\n",
       "    }\n",
       "\n",
       "    .dataframe thead th {\n",
       "        text-align: right;\n",
       "    }\n",
       "</style>\n",
       "<table border=\"1\" class=\"dataframe\">\n",
       "  <thead>\n",
       "    <tr style=\"text-align: right;\">\n",
       "      <th></th>\n",
       "      <th>label</th>\n",
       "      <th>text</th>\n",
       "    </tr>\n",
       "  </thead>\n",
       "  <tbody>\n",
       "    <tr>\n",
       "      <th>0</th>\n",
       "      <td>ham</td>\n",
       "      <td>Go until jurong point, crazy.. Available only ...</td>\n",
       "    </tr>\n",
       "    <tr>\n",
       "      <th>1</th>\n",
       "      <td>ham</td>\n",
       "      <td>Ok lar... Joking wif u oni...</td>\n",
       "    </tr>\n",
       "    <tr>\n",
       "      <th>2</th>\n",
       "      <td>spam</td>\n",
       "      <td>Free entry in 2 a wkly comp to win FA Cup fina...</td>\n",
       "    </tr>\n",
       "    <tr>\n",
       "      <th>3</th>\n",
       "      <td>ham</td>\n",
       "      <td>U dun say so early hor... U c already then say...</td>\n",
       "    </tr>\n",
       "    <tr>\n",
       "      <th>4</th>\n",
       "      <td>ham</td>\n",
       "      <td>Nah I don't think he goes to usf, he lives aro...</td>\n",
       "    </tr>\n",
       "  </tbody>\n",
       "</table>\n",
       "</div>"
      ],
      "text/plain": [
       "  label                                               text\n",
       "0   ham  Go until jurong point, crazy.. Available only ...\n",
       "1   ham                      Ok lar... Joking wif u oni...\n",
       "2  spam  Free entry in 2 a wkly comp to win FA Cup fina...\n",
       "3   ham  U dun say so early hor... U c already then say...\n",
       "4   ham  Nah I don't think he goes to usf, he lives aro..."
      ]
     },
     "execution_count": 36,
     "metadata": {},
     "output_type": "execute_result"
    }
   ],
   "source": [
    "df = pd.read_csv('datasets/SMSSpamCollection', sep = '\\t', header = None, names = ['label','text'])\n",
    "df.head()"
   ]
  },
  {
   "cell_type": "markdown",
   "id": "9b482ef7",
   "metadata": {},
   "source": [
    "## Text Preprocessing\n",
    "#### a) Basic Preprocessing, Tokenization, Stopward Removal, and Stemming "
   ]
  },
  {
   "cell_type": "code",
   "execution_count": 37,
   "id": "c46aa8e4",
   "metadata": {},
   "outputs": [],
   "source": [
    "import re\n",
    "import string\n",
    "import contractions\n",
    "from cleantext import clean\n",
    "from nltk.corpus import stopwords\n",
    "from nltk.tokenize import word_tokenize\n",
    "from nltk.stem import PorterStemmer\n",
    "from nltk.stem import WordNetLemmatizer\n",
    "\n",
    "stop_words = set(stopwords.words('english'))\n",
    "ps = PorterStemmer()\n",
    "wn = WordNetLemmatizer()\n",
    "\n",
    "def text_preprocessing(mystr):\n",
    "    mystr = mystr.lower()                                                # Case Folding\n",
    "    mystr = re.sub('\\w*\\d\\w*', '', mystr)                                # Remove digits\n",
    "    mystr = re.sub('\\n', ' ', mystr)                                      # Remove new line characters with space\n",
    "    mystr = re.sub('[''\"\"....]', '', mystr)                              # Remove double quotes and single quotes\n",
    "    mystr = re.sub('<.*?>', '', mystr)                                   # Remove HTML tags\n",
    "    mystr = re.sub(r'\\[.*?\\]', '', mystr)                                # Remove text in the square brackets\n",
    "    mystr = re.sub('https?://\\S+|www.\\.\\S+','', mystr)                   # Remove URLs\n",
    "    mystr = re.sub('\\n', ' ', mystr)  \n",
    "    mystr = clean(mystr, no_emoji=True)                                  # Remove emojis\n",
    "    mystr = ''.join([i for i in mystr if i not in string.punctuation])   # Remove punctuations\n",
    "    mystr = ' '.join([contractions.fix(i) for i in mystr.split()])        # Expand Contractions\n",
    "    tokens = word_tokenize(mystr)                                        # Tokenize the string\n",
    "    mystr = ''.join([i for i in mystr if i not in string.punctuation])\n",
    "    tokens = [i for i in tokens if i not in stop_words]                  # Remove stop words\n",
    "#     tokens = [ps.stem(i) for i in tokens]                              # Stemming\n",
    "    tokens = [wn.lemmatize(i) for i in tokens]                           # Lemmatization\n",
    "    new_str = ' '.join(tokens)\n",
    "    return new_str"
   ]
  },
  {
   "cell_type": "code",
   "execution_count": null,
   "id": "0952c094",
   "metadata": {},
   "outputs": [],
   "source": []
  },
  {
   "cell_type": "code",
   "execution_count": 38,
   "id": "4bf53a33",
   "metadata": {},
   "outputs": [
    {
     "data": {
      "text/html": [
       "<div>\n",
       "<style scoped>\n",
       "    .dataframe tbody tr th:only-of-type {\n",
       "        vertical-align: middle;\n",
       "    }\n",
       "\n",
       "    .dataframe tbody tr th {\n",
       "        vertical-align: top;\n",
       "    }\n",
       "\n",
       "    .dataframe thead th {\n",
       "        text-align: right;\n",
       "    }\n",
       "</style>\n",
       "<table border=\"1\" class=\"dataframe\">\n",
       "  <thead>\n",
       "    <tr style=\"text-align: right;\">\n",
       "      <th></th>\n",
       "      <th>label</th>\n",
       "      <th>text</th>\n",
       "    </tr>\n",
       "  </thead>\n",
       "  <tbody>\n",
       "    <tr>\n",
       "      <th>0</th>\n",
       "      <td>ham</td>\n",
       "      <td>Go until jurong point, crazy.. Available only ...</td>\n",
       "    </tr>\n",
       "    <tr>\n",
       "      <th>1</th>\n",
       "      <td>ham</td>\n",
       "      <td>Ok lar... Joking wif u oni...</td>\n",
       "    </tr>\n",
       "    <tr>\n",
       "      <th>2</th>\n",
       "      <td>spam</td>\n",
       "      <td>Free entry in 2 a wkly comp to win FA Cup fina...</td>\n",
       "    </tr>\n",
       "    <tr>\n",
       "      <th>3</th>\n",
       "      <td>ham</td>\n",
       "      <td>U dun say so early hor... U c already then say...</td>\n",
       "    </tr>\n",
       "    <tr>\n",
       "      <th>4</th>\n",
       "      <td>ham</td>\n",
       "      <td>Nah I don't think he goes to usf, he lives aro...</td>\n",
       "    </tr>\n",
       "  </tbody>\n",
       "</table>\n",
       "</div>"
      ],
      "text/plain": [
       "  label                                               text\n",
       "0   ham  Go until jurong point, crazy.. Available only ...\n",
       "1   ham                      Ok lar... Joking wif u oni...\n",
       "2  spam  Free entry in 2 a wkly comp to win FA Cup fina...\n",
       "3   ham  U dun say so early hor... U c already then say...\n",
       "4   ham  Nah I don't think he goes to usf, he lives aro..."
      ]
     },
     "execution_count": 38,
     "metadata": {},
     "output_type": "execute_result"
    }
   ],
   "source": [
    "df.head()"
   ]
  },
  {
   "cell_type": "code",
   "execution_count": 40,
   "id": "2761e01a",
   "metadata": {
    "scrolled": true
   },
   "outputs": [
    {
     "ename": "AttributeError",
     "evalue": "'str' object has no attribute 'dtype'",
     "output_type": "error",
     "traceback": [
      "\u001b[1;31m---------------------------------------------------------------------------\u001b[0m",
      "\u001b[1;31mAttributeError\u001b[0m                            Traceback (most recent call last)",
      "Cell \u001b[1;32mIn[40], line 1\u001b[0m\n\u001b[1;32m----> 1\u001b[0m \u001b[43mdf\u001b[49m\u001b[43m[\u001b[49m\u001b[38;5;124;43m'\u001b[39;49m\u001b[38;5;124;43mtext\u001b[39;49m\u001b[38;5;124;43m'\u001b[39;49m\u001b[43m]\u001b[49m\u001b[43m[\u001b[49m\u001b[38;5;241;43m4\u001b[39;49m\u001b[43m]\u001b[49m\u001b[38;5;241;43m.\u001b[39;49m\u001b[43mdtype\u001b[49m\n",
      "\u001b[1;31mAttributeError\u001b[0m: 'str' object has no attribute 'dtype'"
     ]
    }
   ],
   "source": [
    "df['text'][4].dtype"
   ]
  },
  {
   "cell_type": "code",
   "execution_count": 41,
   "id": "7526fd1d",
   "metadata": {},
   "outputs": [],
   "source": [
    "df['ptext'] = df['text'].apply(lambda x: text_preprocessing(x))"
   ]
  },
  {
   "cell_type": "code",
   "execution_count": 34,
   "id": "917e5d69",
   "metadata": {},
   "outputs": [
    {
     "data": {
      "text/html": [
       "<div>\n",
       "<style scoped>\n",
       "    .dataframe tbody tr th:only-of-type {\n",
       "        vertical-align: middle;\n",
       "    }\n",
       "\n",
       "    .dataframe tbody tr th {\n",
       "        vertical-align: top;\n",
       "    }\n",
       "\n",
       "    .dataframe thead th {\n",
       "        text-align: right;\n",
       "    }\n",
       "</style>\n",
       "<table border=\"1\" class=\"dataframe\">\n",
       "  <thead>\n",
       "    <tr style=\"text-align: right;\">\n",
       "      <th></th>\n",
       "      <th>0</th>\n",
       "      <th>1</th>\n",
       "      <th>2</th>\n",
       "      <th>3</th>\n",
       "      <th>4</th>\n",
       "      <th>5</th>\n",
       "      <th>6</th>\n",
       "      <th>7</th>\n",
       "      <th>8</th>\n",
       "      <th>9</th>\n",
       "      <th>...</th>\n",
       "      <th>7597</th>\n",
       "      <th>7598</th>\n",
       "      <th>7599</th>\n",
       "      <th>7600</th>\n",
       "      <th>7601</th>\n",
       "      <th>7602</th>\n",
       "      <th>7603</th>\n",
       "      <th>7604</th>\n",
       "      <th>7605</th>\n",
       "      <th>7606</th>\n",
       "    </tr>\n",
       "  </thead>\n",
       "  <tbody>\n",
       "    <tr>\n",
       "      <th>0</th>\n",
       "      <td>0</td>\n",
       "      <td>0</td>\n",
       "      <td>0</td>\n",
       "      <td>0</td>\n",
       "      <td>0</td>\n",
       "      <td>0</td>\n",
       "      <td>0</td>\n",
       "      <td>0</td>\n",
       "      <td>0</td>\n",
       "      <td>0</td>\n",
       "      <td>...</td>\n",
       "      <td>0</td>\n",
       "      <td>0</td>\n",
       "      <td>0</td>\n",
       "      <td>0</td>\n",
       "      <td>0</td>\n",
       "      <td>0</td>\n",
       "      <td>0</td>\n",
       "      <td>0</td>\n",
       "      <td>0</td>\n",
       "      <td>0</td>\n",
       "    </tr>\n",
       "    <tr>\n",
       "      <th>1</th>\n",
       "      <td>0</td>\n",
       "      <td>0</td>\n",
       "      <td>0</td>\n",
       "      <td>0</td>\n",
       "      <td>0</td>\n",
       "      <td>0</td>\n",
       "      <td>0</td>\n",
       "      <td>0</td>\n",
       "      <td>0</td>\n",
       "      <td>0</td>\n",
       "      <td>...</td>\n",
       "      <td>0</td>\n",
       "      <td>0</td>\n",
       "      <td>0</td>\n",
       "      <td>0</td>\n",
       "      <td>0</td>\n",
       "      <td>0</td>\n",
       "      <td>0</td>\n",
       "      <td>0</td>\n",
       "      <td>0</td>\n",
       "      <td>0</td>\n",
       "    </tr>\n",
       "    <tr>\n",
       "      <th>2</th>\n",
       "      <td>0</td>\n",
       "      <td>0</td>\n",
       "      <td>0</td>\n",
       "      <td>0</td>\n",
       "      <td>0</td>\n",
       "      <td>0</td>\n",
       "      <td>0</td>\n",
       "      <td>0</td>\n",
       "      <td>0</td>\n",
       "      <td>0</td>\n",
       "      <td>...</td>\n",
       "      <td>0</td>\n",
       "      <td>0</td>\n",
       "      <td>0</td>\n",
       "      <td>0</td>\n",
       "      <td>0</td>\n",
       "      <td>0</td>\n",
       "      <td>0</td>\n",
       "      <td>0</td>\n",
       "      <td>0</td>\n",
       "      <td>0</td>\n",
       "    </tr>\n",
       "    <tr>\n",
       "      <th>3</th>\n",
       "      <td>0</td>\n",
       "      <td>0</td>\n",
       "      <td>0</td>\n",
       "      <td>0</td>\n",
       "      <td>0</td>\n",
       "      <td>0</td>\n",
       "      <td>0</td>\n",
       "      <td>0</td>\n",
       "      <td>0</td>\n",
       "      <td>0</td>\n",
       "      <td>...</td>\n",
       "      <td>0</td>\n",
       "      <td>0</td>\n",
       "      <td>0</td>\n",
       "      <td>0</td>\n",
       "      <td>0</td>\n",
       "      <td>0</td>\n",
       "      <td>0</td>\n",
       "      <td>0</td>\n",
       "      <td>0</td>\n",
       "      <td>0</td>\n",
       "    </tr>\n",
       "    <tr>\n",
       "      <th>4</th>\n",
       "      <td>0</td>\n",
       "      <td>0</td>\n",
       "      <td>0</td>\n",
       "      <td>0</td>\n",
       "      <td>0</td>\n",
       "      <td>0</td>\n",
       "      <td>0</td>\n",
       "      <td>0</td>\n",
       "      <td>0</td>\n",
       "      <td>0</td>\n",
       "      <td>...</td>\n",
       "      <td>0</td>\n",
       "      <td>0</td>\n",
       "      <td>0</td>\n",
       "      <td>0</td>\n",
       "      <td>0</td>\n",
       "      <td>0</td>\n",
       "      <td>0</td>\n",
       "      <td>0</td>\n",
       "      <td>0</td>\n",
       "      <td>0</td>\n",
       "    </tr>\n",
       "  </tbody>\n",
       "</table>\n",
       "<p>5 rows × 7607 columns</p>\n",
       "</div>"
      ],
      "text/plain": [
       "   0     1     2     3     4     5     6     7     8     9     ...  7597  \\\n",
       "0     0     0     0     0     0     0     0     0     0     0  ...     0   \n",
       "1     0     0     0     0     0     0     0     0     0     0  ...     0   \n",
       "2     0     0     0     0     0     0     0     0     0     0  ...     0   \n",
       "3     0     0     0     0     0     0     0     0     0     0  ...     0   \n",
       "4     0     0     0     0     0     0     0     0     0     0  ...     0   \n",
       "\n",
       "   7598  7599  7600  7601  7602  7603  7604  7605  7606  \n",
       "0     0     0     0     0     0     0     0     0     0  \n",
       "1     0     0     0     0     0     0     0     0     0  \n",
       "2     0     0     0     0     0     0     0     0     0  \n",
       "3     0     0     0     0     0     0     0     0     0  \n",
       "4     0     0     0     0     0     0     0     0     0  \n",
       "\n",
       "[5 rows x 7607 columns]"
      ]
     },
     "execution_count": 34,
     "metadata": {},
     "output_type": "execute_result"
    }
   ],
   "source": [
    "df.head()"
   ]
  },
  {
   "cell_type": "markdown",
   "id": "169a1ed5",
   "metadata": {},
   "source": [
    "#### Verification of Text Preprocessing"
   ]
  },
  {
   "cell_type": "code",
   "execution_count": 7,
   "id": "d89321cd",
   "metadata": {},
   "outputs": [
    {
     "data": {
      "text/plain": [
       "'Is that seriously how you spell his name?'"
      ]
     },
     "execution_count": 7,
     "metadata": {},
     "output_type": "execute_result"
    }
   ],
   "source": [
    "df['text'][20]"
   ]
  },
  {
   "cell_type": "code",
   "execution_count": 8,
   "id": "0948e5ae",
   "metadata": {
    "scrolled": true
   },
   "outputs": [
    {
     "data": {
      "text/plain": [
       "'seriously spell name'"
      ]
     },
     "execution_count": 8,
     "metadata": {},
     "output_type": "execute_result"
    }
   ],
   "source": [
    "df['ptext'][20]"
   ]
  },
  {
   "cell_type": "markdown",
   "id": "3a869b87",
   "metadata": {},
   "source": [
    "#### Text Vectorization Using Bag of Words (BoW)"
   ]
  },
  {
   "cell_type": "code",
   "execution_count": 12,
   "id": "d3253081",
   "metadata": {},
   "outputs": [],
   "source": [
    "from sklearn.feature_extraction.text import CountVectorizer\n",
    "\n",
    "cv = CountVectorizer()\n",
    "bow = cv.fit_transform(df['ptext'])"
   ]
  },
  {
   "cell_type": "code",
   "execution_count": 14,
   "id": "926c37d7",
   "metadata": {},
   "outputs": [
    {
     "name": "stdout",
     "output_type": "stream",
     "text": [
      "7607\n"
     ]
    }
   ],
   "source": [
    "print(len(cv.vocabulary_))"
   ]
  },
  {
   "cell_type": "code",
   "execution_count": 16,
   "id": "18841fd7",
   "metadata": {},
   "outputs": [
    {
     "name": "stdout",
     "output_type": "stream",
     "text": [
      "['8ud' 'aa' 'aah' ... 'zoom' 'zouk' 'zyada']\n"
     ]
    }
   ],
   "source": [
    "print(cv.get_feature_names_out())"
   ]
  },
  {
   "cell_type": "code",
   "execution_count": 17,
   "id": "5f936567",
   "metadata": {},
   "outputs": [
    {
     "data": {
      "text/plain": [
       "(5572, 7607)"
      ]
     },
     "execution_count": 17,
     "metadata": {},
     "output_type": "execute_result"
    }
   ],
   "source": [
    "bow.shape"
   ]
  },
  {
   "cell_type": "code",
   "execution_count": 18,
   "id": "19703362",
   "metadata": {},
   "outputs": [
    {
     "data": {
      "text/plain": [
       "<5572x7607 sparse matrix of type '<class 'numpy.int64'>'\n",
       "\twith 42346 stored elements in Compressed Sparse Row format>"
      ]
     },
     "execution_count": 18,
     "metadata": {},
     "output_type": "execute_result"
    }
   ],
   "source": [
    "bow"
   ]
  },
  {
   "cell_type": "markdown",
   "id": "b37f42be",
   "metadata": {},
   "source": [
    ">- The DTM contains 5572 rows as there are 5572 messages\n",
    ">- The DTM contains 7607 columns as there are 7606 unique words in the vocabulary of messages "
   ]
  },
  {
   "cell_type": "code",
   "execution_count": 19,
   "id": "ac9cb858",
   "metadata": {},
   "outputs": [
    {
     "data": {
      "text/plain": [
       "matrix([[0, 0, 0, ..., 0, 0, 0],\n",
       "        [0, 0, 0, ..., 0, 0, 0],\n",
       "        [0, 0, 0, ..., 0, 0, 0],\n",
       "        ...,\n",
       "        [0, 0, 0, ..., 0, 0, 0],\n",
       "        [0, 0, 0, ..., 0, 0, 0],\n",
       "        [0, 0, 0, ..., 0, 0, 0]], dtype=int64)"
      ]
     },
     "execution_count": 19,
     "metadata": {},
     "output_type": "execute_result"
    }
   ],
   "source": [
    "# Since bow is a sparse matrix, so change it to dense matrix or array, we can use the numpt toarray() method\n",
    "#bow.toarray()\n",
    "bow.todense()"
   ]
  },
  {
   "cell_type": "markdown",
   "id": "3b304593",
   "metadata": {},
   "source": [
    "### Understand the Sparsity of the Resulting Document-Term-Matrix (DTM)"
   ]
  },
  {
   "cell_type": "code",
   "execution_count": 20,
   "id": "96b6d472",
   "metadata": {},
   "outputs": [
    {
     "data": {
      "text/plain": [
       "42386204"
      ]
     },
     "execution_count": 20,
     "metadata": {},
     "output_type": "execute_result"
    }
   ],
   "source": [
    "total_cells = bow.shape[0] * bow.shape[1]\n",
    "total_cells"
   ]
  },
  {
   "cell_type": "code",
   "execution_count": 21,
   "id": "0f62ca67",
   "metadata": {},
   "outputs": [
    {
     "data": {
      "text/plain": [
       "42346"
      ]
     },
     "execution_count": 21,
     "metadata": {},
     "output_type": "execute_result"
    }
   ],
   "source": [
    "nonzero_cells = bow.nnz\n",
    "nonzero_cells"
   ]
  },
  {
   "cell_type": "code",
   "execution_count": 23,
   "id": "4e8fed3f",
   "metadata": {},
   "outputs": [
    {
     "data": {
      "text/plain": [
       "0.09990514838271435"
      ]
     },
     "execution_count": 23,
     "metadata": {},
     "output_type": "execute_result"
    }
   ],
   "source": [
    "percentage = (nonzero_cells/total_cells)*100\n",
    "percentage"
   ]
  },
  {
   "cell_type": "markdown",
   "id": "91faa410",
   "metadata": {},
   "source": [
    ">- 99.9% cells contains a zero values\n",
    ">- In order to save memory space and speed up algebric operations, we use sparse representation of matrix"
   ]
  },
  {
   "cell_type": "markdown",
   "id": "196e6b5a",
   "metadata": {},
   "source": [
    "### Check out and Understand BoW vector representation of a specific sms"
   ]
  },
  {
   "cell_type": "code",
   "execution_count": 25,
   "id": "247bacbc",
   "metadata": {},
   "outputs": [
    {
     "name": "stdout",
     "output_type": "stream",
     "text": [
      "Had your mobile 11 months or more? U R entitled to Update to the latest colour mobiles with camera for Free! Call The Mobile Update Co FREE on 08002986030\n",
      "\n",
      " mobile month r entitled update latest colour mobile camera free call mobile update co free\n",
      "\n",
      " spam\n"
     ]
    }
   ],
   "source": [
    "print(df.text[9])\n",
    "print('\\n', df['ptext'][9])\n",
    "print('\\n', df['label'][9])"
   ]
  },
  {
   "cell_type": "code",
   "execution_count": 27,
   "id": "f4fb23cb",
   "metadata": {},
   "outputs": [
    {
     "data": {
      "text/plain": [
       "10"
      ]
     },
     "execution_count": 27,
     "metadata": {},
     "output_type": "execute_result"
    }
   ],
   "source": [
    "bow[9].nnz"
   ]
  },
  {
   "cell_type": "code",
   "execution_count": 28,
   "id": "4053aeb5",
   "metadata": {},
   "outputs": [
    {
     "name": "stdout",
     "output_type": "stream",
     "text": [
      "  (0, 2396)\t2\n",
      "  (0, 914)\t1\n",
      "  (0, 4116)\t3\n",
      "  (0, 4147)\t1\n",
      "  (0, 2007)\t1\n",
      "  (0, 6957)\t2\n",
      "  (0, 3583)\t1\n",
      "  (0, 1229)\t1\n",
      "  (0, 936)\t1\n",
      "  (0, 1197)\t1\n"
     ]
    }
   ],
   "source": [
    "print(bow[9])"
   ]
  },
  {
   "cell_type": "markdown",
   "id": "30169eab",
   "metadata": {},
   "source": [
    "### View the Document Term Matrix in Pandas DataFrame"
   ]
  },
  {
   "cell_type": "code",
   "execution_count": 29,
   "id": "6bb1cfab",
   "metadata": {},
   "outputs": [
    {
     "data": {
      "text/html": [
       "<div>\n",
       "<style scoped>\n",
       "    .dataframe tbody tr th:only-of-type {\n",
       "        vertical-align: middle;\n",
       "    }\n",
       "\n",
       "    .dataframe tbody tr th {\n",
       "        vertical-align: top;\n",
       "    }\n",
       "\n",
       "    .dataframe thead th {\n",
       "        text-align: right;\n",
       "    }\n",
       "</style>\n",
       "<table border=\"1\" class=\"dataframe\">\n",
       "  <thead>\n",
       "    <tr style=\"text-align: right;\">\n",
       "      <th></th>\n",
       "      <th>0</th>\n",
       "      <th>1</th>\n",
       "      <th>2</th>\n",
       "      <th>3</th>\n",
       "      <th>4</th>\n",
       "      <th>5</th>\n",
       "      <th>6</th>\n",
       "      <th>7</th>\n",
       "      <th>8</th>\n",
       "      <th>9</th>\n",
       "      <th>...</th>\n",
       "      <th>7597</th>\n",
       "      <th>7598</th>\n",
       "      <th>7599</th>\n",
       "      <th>7600</th>\n",
       "      <th>7601</th>\n",
       "      <th>7602</th>\n",
       "      <th>7603</th>\n",
       "      <th>7604</th>\n",
       "      <th>7605</th>\n",
       "      <th>7606</th>\n",
       "    </tr>\n",
       "  </thead>\n",
       "  <tbody>\n",
       "    <tr>\n",
       "      <th>0</th>\n",
       "      <td>0</td>\n",
       "      <td>0</td>\n",
       "      <td>0</td>\n",
       "      <td>0</td>\n",
       "      <td>0</td>\n",
       "      <td>0</td>\n",
       "      <td>0</td>\n",
       "      <td>0</td>\n",
       "      <td>0</td>\n",
       "      <td>0</td>\n",
       "      <td>...</td>\n",
       "      <td>0</td>\n",
       "      <td>0</td>\n",
       "      <td>0</td>\n",
       "      <td>0</td>\n",
       "      <td>0</td>\n",
       "      <td>0</td>\n",
       "      <td>0</td>\n",
       "      <td>0</td>\n",
       "      <td>0</td>\n",
       "      <td>0</td>\n",
       "    </tr>\n",
       "    <tr>\n",
       "      <th>1</th>\n",
       "      <td>0</td>\n",
       "      <td>0</td>\n",
       "      <td>0</td>\n",
       "      <td>0</td>\n",
       "      <td>0</td>\n",
       "      <td>0</td>\n",
       "      <td>0</td>\n",
       "      <td>0</td>\n",
       "      <td>0</td>\n",
       "      <td>0</td>\n",
       "      <td>...</td>\n",
       "      <td>0</td>\n",
       "      <td>0</td>\n",
       "      <td>0</td>\n",
       "      <td>0</td>\n",
       "      <td>0</td>\n",
       "      <td>0</td>\n",
       "      <td>0</td>\n",
       "      <td>0</td>\n",
       "      <td>0</td>\n",
       "      <td>0</td>\n",
       "    </tr>\n",
       "    <tr>\n",
       "      <th>2</th>\n",
       "      <td>0</td>\n",
       "      <td>0</td>\n",
       "      <td>0</td>\n",
       "      <td>0</td>\n",
       "      <td>0</td>\n",
       "      <td>0</td>\n",
       "      <td>0</td>\n",
       "      <td>0</td>\n",
       "      <td>0</td>\n",
       "      <td>0</td>\n",
       "      <td>...</td>\n",
       "      <td>0</td>\n",
       "      <td>0</td>\n",
       "      <td>0</td>\n",
       "      <td>0</td>\n",
       "      <td>0</td>\n",
       "      <td>0</td>\n",
       "      <td>0</td>\n",
       "      <td>0</td>\n",
       "      <td>0</td>\n",
       "      <td>0</td>\n",
       "    </tr>\n",
       "    <tr>\n",
       "      <th>3</th>\n",
       "      <td>0</td>\n",
       "      <td>0</td>\n",
       "      <td>0</td>\n",
       "      <td>0</td>\n",
       "      <td>0</td>\n",
       "      <td>0</td>\n",
       "      <td>0</td>\n",
       "      <td>0</td>\n",
       "      <td>0</td>\n",
       "      <td>0</td>\n",
       "      <td>...</td>\n",
       "      <td>0</td>\n",
       "      <td>0</td>\n",
       "      <td>0</td>\n",
       "      <td>0</td>\n",
       "      <td>0</td>\n",
       "      <td>0</td>\n",
       "      <td>0</td>\n",
       "      <td>0</td>\n",
       "      <td>0</td>\n",
       "      <td>0</td>\n",
       "    </tr>\n",
       "    <tr>\n",
       "      <th>4</th>\n",
       "      <td>0</td>\n",
       "      <td>0</td>\n",
       "      <td>0</td>\n",
       "      <td>0</td>\n",
       "      <td>0</td>\n",
       "      <td>0</td>\n",
       "      <td>0</td>\n",
       "      <td>0</td>\n",
       "      <td>0</td>\n",
       "      <td>0</td>\n",
       "      <td>...</td>\n",
       "      <td>0</td>\n",
       "      <td>0</td>\n",
       "      <td>0</td>\n",
       "      <td>0</td>\n",
       "      <td>0</td>\n",
       "      <td>0</td>\n",
       "      <td>0</td>\n",
       "      <td>0</td>\n",
       "      <td>0</td>\n",
       "      <td>0</td>\n",
       "    </tr>\n",
       "    <tr>\n",
       "      <th>...</th>\n",
       "      <td>...</td>\n",
       "      <td>...</td>\n",
       "      <td>...</td>\n",
       "      <td>...</td>\n",
       "      <td>...</td>\n",
       "      <td>...</td>\n",
       "      <td>...</td>\n",
       "      <td>...</td>\n",
       "      <td>...</td>\n",
       "      <td>...</td>\n",
       "      <td>...</td>\n",
       "      <td>...</td>\n",
       "      <td>...</td>\n",
       "      <td>...</td>\n",
       "      <td>...</td>\n",
       "      <td>...</td>\n",
       "      <td>...</td>\n",
       "      <td>...</td>\n",
       "      <td>...</td>\n",
       "      <td>...</td>\n",
       "      <td>...</td>\n",
       "    </tr>\n",
       "    <tr>\n",
       "      <th>5567</th>\n",
       "      <td>0</td>\n",
       "      <td>0</td>\n",
       "      <td>0</td>\n",
       "      <td>0</td>\n",
       "      <td>0</td>\n",
       "      <td>0</td>\n",
       "      <td>0</td>\n",
       "      <td>0</td>\n",
       "      <td>0</td>\n",
       "      <td>0</td>\n",
       "      <td>...</td>\n",
       "      <td>0</td>\n",
       "      <td>0</td>\n",
       "      <td>0</td>\n",
       "      <td>0</td>\n",
       "      <td>0</td>\n",
       "      <td>0</td>\n",
       "      <td>0</td>\n",
       "      <td>0</td>\n",
       "      <td>0</td>\n",
       "      <td>0</td>\n",
       "    </tr>\n",
       "    <tr>\n",
       "      <th>5568</th>\n",
       "      <td>0</td>\n",
       "      <td>0</td>\n",
       "      <td>0</td>\n",
       "      <td>0</td>\n",
       "      <td>0</td>\n",
       "      <td>0</td>\n",
       "      <td>0</td>\n",
       "      <td>0</td>\n",
       "      <td>0</td>\n",
       "      <td>0</td>\n",
       "      <td>...</td>\n",
       "      <td>0</td>\n",
       "      <td>0</td>\n",
       "      <td>0</td>\n",
       "      <td>0</td>\n",
       "      <td>0</td>\n",
       "      <td>0</td>\n",
       "      <td>0</td>\n",
       "      <td>0</td>\n",
       "      <td>0</td>\n",
       "      <td>0</td>\n",
       "    </tr>\n",
       "    <tr>\n",
       "      <th>5569</th>\n",
       "      <td>0</td>\n",
       "      <td>0</td>\n",
       "      <td>0</td>\n",
       "      <td>0</td>\n",
       "      <td>0</td>\n",
       "      <td>0</td>\n",
       "      <td>0</td>\n",
       "      <td>0</td>\n",
       "      <td>0</td>\n",
       "      <td>0</td>\n",
       "      <td>...</td>\n",
       "      <td>0</td>\n",
       "      <td>0</td>\n",
       "      <td>0</td>\n",
       "      <td>0</td>\n",
       "      <td>0</td>\n",
       "      <td>0</td>\n",
       "      <td>0</td>\n",
       "      <td>0</td>\n",
       "      <td>0</td>\n",
       "      <td>0</td>\n",
       "    </tr>\n",
       "    <tr>\n",
       "      <th>5570</th>\n",
       "      <td>0</td>\n",
       "      <td>0</td>\n",
       "      <td>0</td>\n",
       "      <td>0</td>\n",
       "      <td>0</td>\n",
       "      <td>0</td>\n",
       "      <td>0</td>\n",
       "      <td>0</td>\n",
       "      <td>0</td>\n",
       "      <td>0</td>\n",
       "      <td>...</td>\n",
       "      <td>0</td>\n",
       "      <td>0</td>\n",
       "      <td>0</td>\n",
       "      <td>0</td>\n",
       "      <td>0</td>\n",
       "      <td>0</td>\n",
       "      <td>0</td>\n",
       "      <td>0</td>\n",
       "      <td>0</td>\n",
       "      <td>0</td>\n",
       "    </tr>\n",
       "    <tr>\n",
       "      <th>5571</th>\n",
       "      <td>0</td>\n",
       "      <td>0</td>\n",
       "      <td>0</td>\n",
       "      <td>0</td>\n",
       "      <td>0</td>\n",
       "      <td>0</td>\n",
       "      <td>0</td>\n",
       "      <td>0</td>\n",
       "      <td>0</td>\n",
       "      <td>0</td>\n",
       "      <td>...</td>\n",
       "      <td>0</td>\n",
       "      <td>0</td>\n",
       "      <td>0</td>\n",
       "      <td>0</td>\n",
       "      <td>0</td>\n",
       "      <td>0</td>\n",
       "      <td>0</td>\n",
       "      <td>0</td>\n",
       "      <td>0</td>\n",
       "      <td>0</td>\n",
       "    </tr>\n",
       "  </tbody>\n",
       "</table>\n",
       "<p>5572 rows × 7607 columns</p>\n",
       "</div>"
      ],
      "text/plain": [
       "      0     1     2     3     4     5     6     7     8     9     ...  7597  \\\n",
       "0        0     0     0     0     0     0     0     0     0     0  ...     0   \n",
       "1        0     0     0     0     0     0     0     0     0     0  ...     0   \n",
       "2        0     0     0     0     0     0     0     0     0     0  ...     0   \n",
       "3        0     0     0     0     0     0     0     0     0     0  ...     0   \n",
       "4        0     0     0     0     0     0     0     0     0     0  ...     0   \n",
       "...    ...   ...   ...   ...   ...   ...   ...   ...   ...   ...  ...   ...   \n",
       "5567     0     0     0     0     0     0     0     0     0     0  ...     0   \n",
       "5568     0     0     0     0     0     0     0     0     0     0  ...     0   \n",
       "5569     0     0     0     0     0     0     0     0     0     0  ...     0   \n",
       "5570     0     0     0     0     0     0     0     0     0     0  ...     0   \n",
       "5571     0     0     0     0     0     0     0     0     0     0  ...     0   \n",
       "\n",
       "      7598  7599  7600  7601  7602  7603  7604  7605  7606  \n",
       "0        0     0     0     0     0     0     0     0     0  \n",
       "1        0     0     0     0     0     0     0     0     0  \n",
       "2        0     0     0     0     0     0     0     0     0  \n",
       "3        0     0     0     0     0     0     0     0     0  \n",
       "4        0     0     0     0     0     0     0     0     0  \n",
       "...    ...   ...   ...   ...   ...   ...   ...   ...   ...  \n",
       "5567     0     0     0     0     0     0     0     0     0  \n",
       "5568     0     0     0     0     0     0     0     0     0  \n",
       "5569     0     0     0     0     0     0     0     0     0  \n",
       "5570     0     0     0     0     0     0     0     0     0  \n",
       "5571     0     0     0     0     0     0     0     0     0  \n",
       "\n",
       "[5572 rows x 7607 columns]"
      ]
     },
     "execution_count": 29,
     "metadata": {},
     "output_type": "execute_result"
    }
   ],
   "source": [
    "import pandas as pd\n",
    "df = pd.DataFrame(data = bow.todense())\n",
    "df"
   ]
  },
  {
   "cell_type": "markdown",
   "id": "b2f5353f",
   "metadata": {},
   "source": [
    "## Model Building (Feed Training Data to ML Model)\n",
    "#### Choose ML Model\n",
    "- We can use one of the following ML Model\n",
    ">- 1) Naive Bayes\n",
    ">- 2) Logistic Regression\n",
    ">- 3) Support Vector Machine\n",
    ">- 4) K-Nearest Neighbours\n",
    ">- 5) Decision Tree Classifier\n",
    ">- 6) Random Forest Classifier\n",
    ">- 7) XGBoost Classifier\n",
    ">- 8) AdaBoost Classifier\n",
    "\n",
    "### Naive Bayes' Classifier\n",
    "- It is a probabilistic ML algorithm that uses Bayes' Theorum for supervised ML classifications. \n",
    "- This algorithm makes an assumptions that all the input features are ***`independent`*** to each other and make ***`Equal`*** contributions \n",
    "- These are the three types of Naive Bayes' Theorum under the Scikit-Learn Library\n",
    "     1) ***Bernoulli Naive Bayes' (`BernoulliNB`)***: It is used when all the input features are binary such that they take only two values. Means 0's can represent \"Word does not occur in the document\" and 1's represent \"Word occurs in the documents\"\n",
    "     2) ***Multinomial Naive Bayes' (`MultinomialNB`)***: It is used when all the input features are discrete having integer values. For example: frequency of occurrences of a term/word in the document. It is suitable for the classifications with discrete features (word counts for text classification). However, in practice, fractional counts such as tf-idf may also work\n",
    "     3) ***Gaussian Naiva Bayes' (`GaussianNB`)***: It is used when the input features are continuous values (age, distance, inflation etc), whose probabilities can be modeled using a Gaussian/Normal Distribution. \n",
    "- The output labels can be\n",
    "     1) ***Binary***: Assign observation to one of two groups (spam/ham, yes/no, healthy/sick, etc)\n",
    "     2) ***Multinomial***: Assign observation to one to N-groups (happy, sad, fear, surprise, joy) \n",
    "     3) ***Ordinal***: Assign one of N-ordered groups (baby, child, adult, young, elder, old)\n",
    "     4) ***Multiclass***: Assign obserrvation to K of N groups. Assign more than one label to an observation. (happy, baby), (sad, child), (angry, adult)"
   ]
  },
  {
   "cell_type": "markdown",
   "id": "13fd167f",
   "metadata": {},
   "source": [
    "## Split Data for Training and Testing"
   ]
  },
  {
   "cell_type": "code",
   "execution_count": 30,
   "id": "f113aff0",
   "metadata": {},
   "outputs": [
    {
     "data": {
      "text/plain": [
       "<5572x7607 sparse matrix of type '<class 'numpy.int64'>'\n",
       "\twith 42346 stored elements in Compressed Sparse Row format>"
      ]
     },
     "execution_count": 30,
     "metadata": {},
     "output_type": "execute_result"
    }
   ],
   "source": [
    "X = bow\n",
    "X"
   ]
  },
  {
   "cell_type": "code",
   "execution_count": 42,
   "id": "05ed3ba5",
   "metadata": {},
   "outputs": [
    {
     "data": {
      "text/plain": [
       "0        ham\n",
       "1        ham\n",
       "2       spam\n",
       "3        ham\n",
       "4        ham\n",
       "        ... \n",
       "5567    spam\n",
       "5568     ham\n",
       "5569     ham\n",
       "5570     ham\n",
       "5571     ham\n",
       "Name: label, Length: 5572, dtype: object"
      ]
     },
     "execution_count": 42,
     "metadata": {},
     "output_type": "execute_result"
    }
   ],
   "source": [
    "# Since our output label can belong to two classes ham or spam so we need to vectorize to that columns to zero and one\n",
    "# This can be done using one-hot encoding\n",
    "y = df['label']\n",
    "y"
   ]
  },
  {
   "cell_type": "code",
   "execution_count": 43,
   "id": "34c6cdd6",
   "metadata": {},
   "outputs": [],
   "source": [
    "from sklearn.model_selection import train_test_split\n",
    "X_train, X_test, y_train, y_test = train_test_split(X, y, test_size = 0.3, random_state = 5, shuffle = True)\n"
   ]
  },
  {
   "cell_type": "code",
   "execution_count": 44,
   "id": "329fa921",
   "metadata": {},
   "outputs": [
    {
     "name": "stdout",
     "output_type": "stream",
     "text": [
      "Size of the Training Input Data: (3900, 7607)\n",
      "\n",
      " Size of the Test Input Data:  (1672, 7607)\n",
      "Size of the Training Label Data: (3900,)\n",
      "\n",
      " Size of the Test label Data:  (1672,)\n"
     ]
    }
   ],
   "source": [
    "print('Size of the Training Input Data:', X_train.shape)\n",
    "print('\\n Size of the Test Input Data: ', X_test.shape)\n",
    "print('Size of the Training Label Data:', y_train.shape)\n",
    "print('\\n Size of the Test label Data: ', y_test.shape)"
   ]
  },
  {
   "cell_type": "markdown",
   "id": "297da485",
   "metadata": {},
   "source": [
    "## Fit Naive-Bayes' Classifier Model on Training Data"
   ]
  },
  {
   "cell_type": "code",
   "execution_count": 62,
   "id": "3574a001",
   "metadata": {},
   "outputs": [],
   "source": [
    "from sklearn.naive_bayes import MultinomialNB\n",
    "model = MultinomialNB()"
   ]
  },
  {
   "cell_type": "code",
   "execution_count": 65,
   "id": "ad567452",
   "metadata": {},
   "outputs": [
    {
     "data": {
      "text/html": [
       "<style>#sk-container-id-3 {color: black;background-color: white;}#sk-container-id-3 pre{padding: 0;}#sk-container-id-3 div.sk-toggleable {background-color: white;}#sk-container-id-3 label.sk-toggleable__label {cursor: pointer;display: block;width: 100%;margin-bottom: 0;padding: 0.3em;box-sizing: border-box;text-align: center;}#sk-container-id-3 label.sk-toggleable__label-arrow:before {content: \"▸\";float: left;margin-right: 0.25em;color: #696969;}#sk-container-id-3 label.sk-toggleable__label-arrow:hover:before {color: black;}#sk-container-id-3 div.sk-estimator:hover label.sk-toggleable__label-arrow:before {color: black;}#sk-container-id-3 div.sk-toggleable__content {max-height: 0;max-width: 0;overflow: hidden;text-align: left;background-color: #f0f8ff;}#sk-container-id-3 div.sk-toggleable__content pre {margin: 0.2em;color: black;border-radius: 0.25em;background-color: #f0f8ff;}#sk-container-id-3 input.sk-toggleable__control:checked~div.sk-toggleable__content {max-height: 200px;max-width: 100%;overflow: auto;}#sk-container-id-3 input.sk-toggleable__control:checked~label.sk-toggleable__label-arrow:before {content: \"▾\";}#sk-container-id-3 div.sk-estimator input.sk-toggleable__control:checked~label.sk-toggleable__label {background-color: #d4ebff;}#sk-container-id-3 div.sk-label input.sk-toggleable__control:checked~label.sk-toggleable__label {background-color: #d4ebff;}#sk-container-id-3 input.sk-hidden--visually {border: 0;clip: rect(1px 1px 1px 1px);clip: rect(1px, 1px, 1px, 1px);height: 1px;margin: -1px;overflow: hidden;padding: 0;position: absolute;width: 1px;}#sk-container-id-3 div.sk-estimator {font-family: monospace;background-color: #f0f8ff;border: 1px dotted black;border-radius: 0.25em;box-sizing: border-box;margin-bottom: 0.5em;}#sk-container-id-3 div.sk-estimator:hover {background-color: #d4ebff;}#sk-container-id-3 div.sk-parallel-item::after {content: \"\";width: 100%;border-bottom: 1px solid gray;flex-grow: 1;}#sk-container-id-3 div.sk-label:hover label.sk-toggleable__label {background-color: #d4ebff;}#sk-container-id-3 div.sk-serial::before {content: \"\";position: absolute;border-left: 1px solid gray;box-sizing: border-box;top: 0;bottom: 0;left: 50%;z-index: 0;}#sk-container-id-3 div.sk-serial {display: flex;flex-direction: column;align-items: center;background-color: white;padding-right: 0.2em;padding-left: 0.2em;position: relative;}#sk-container-id-3 div.sk-item {position: relative;z-index: 1;}#sk-container-id-3 div.sk-parallel {display: flex;align-items: stretch;justify-content: center;background-color: white;position: relative;}#sk-container-id-3 div.sk-item::before, #sk-container-id-3 div.sk-parallel-item::before {content: \"\";position: absolute;border-left: 1px solid gray;box-sizing: border-box;top: 0;bottom: 0;left: 50%;z-index: -1;}#sk-container-id-3 div.sk-parallel-item {display: flex;flex-direction: column;z-index: 1;position: relative;background-color: white;}#sk-container-id-3 div.sk-parallel-item:first-child::after {align-self: flex-end;width: 50%;}#sk-container-id-3 div.sk-parallel-item:last-child::after {align-self: flex-start;width: 50%;}#sk-container-id-3 div.sk-parallel-item:only-child::after {width: 0;}#sk-container-id-3 div.sk-dashed-wrapped {border: 1px dashed gray;margin: 0 0.4em 0.5em 0.4em;box-sizing: border-box;padding-bottom: 0.4em;background-color: white;}#sk-container-id-3 div.sk-label label {font-family: monospace;font-weight: bold;display: inline-block;line-height: 1.2em;}#sk-container-id-3 div.sk-label-container {text-align: center;}#sk-container-id-3 div.sk-container {/* jupyter's `normalize.less` sets `[hidden] { display: none; }` but bootstrap.min.css set `[hidden] { display: none !important; }` so we also need the `!important` here to be able to override the default hidden behavior on the sphinx rendered scikit-learn.org. See: https://github.com/scikit-learn/scikit-learn/issues/21755 */display: inline-block !important;position: relative;}#sk-container-id-3 div.sk-text-repr-fallback {display: none;}</style><div id=\"sk-container-id-3\" class=\"sk-top-container\"><div class=\"sk-text-repr-fallback\"><pre>MultinomialNB()</pre><b>In a Jupyter environment, please rerun this cell to show the HTML representation or trust the notebook. <br />On GitHub, the HTML representation is unable to render, please try loading this page with nbviewer.org.</b></div><div class=\"sk-container\" hidden><div class=\"sk-item\"><div class=\"sk-estimator sk-toggleable\"><input class=\"sk-toggleable__control sk-hidden--visually\" id=\"sk-estimator-id-3\" type=\"checkbox\" checked><label for=\"sk-estimator-id-3\" class=\"sk-toggleable__label sk-toggleable__label-arrow\">MultinomialNB</label><div class=\"sk-toggleable__content\"><pre>MultinomialNB()</pre></div></div></div></div></div>"
      ],
      "text/plain": [
       "MultinomialNB()"
      ]
     },
     "execution_count": 65,
     "metadata": {},
     "output_type": "execute_result"
    }
   ],
   "source": [
    "model.fit(X_train, y_train)"
   ]
  },
  {
   "cell_type": "markdown",
   "id": "244037e6",
   "metadata": {},
   "source": [
    ">- A ML model training model training actually creates a mathematical representation relationship between the input features and output labels"
   ]
  },
  {
   "cell_type": "markdown",
   "id": "3b1a3348",
   "metadata": {},
   "source": [
    "## Evaluate Metrics for Classification ML Model \n",
    "### 1) Confusion Matrix"
   ]
  },
  {
   "cell_type": "code",
   "execution_count": 47,
   "id": "ed6ba685",
   "metadata": {},
   "outputs": [
    {
     "data": {
      "text/plain": [
       "array(['spam', 'ham', 'spam', ..., 'ham', 'ham', 'ham'], dtype='<U4')"
      ]
     },
     "execution_count": 47,
     "metadata": {},
     "output_type": "execute_result"
    }
   ],
   "source": [
    "predictions = model.predict(X_test)\n",
    "predictions"
   ]
  },
  {
   "cell_type": "code",
   "execution_count": 49,
   "id": "b7d07237",
   "metadata": {},
   "outputs": [
    {
     "data": {
      "text/plain": [
       "2095    spam\n",
       "5343     ham\n",
       "564     spam\n",
       "3849     ham\n",
       "3317     ham\n",
       "        ... \n",
       "4569     ham\n",
       "3714     ham\n",
       "1885     ham\n",
       "5313     ham\n",
       "1922     ham\n",
       "Name: label, Length: 1672, dtype: object"
      ]
     },
     "execution_count": 49,
     "metadata": {},
     "output_type": "execute_result"
    }
   ],
   "source": [
    "y_test"
   ]
  },
  {
   "cell_type": "code",
   "execution_count": 50,
   "id": "9f6c3e56",
   "metadata": {
    "scrolled": true
   },
   "outputs": [
    {
     "data": {
      "text/plain": [
       "array([[1410,   39],\n",
       "       [  13,  210]], dtype=int64)"
      ]
     },
     "execution_count": 50,
     "metadata": {},
     "output_type": "execute_result"
    }
   ],
   "source": [
    "from sklearn.metrics import confusion_matrix\n",
    "cm = confusion_matrix(y_test, predictions)\n",
    "cm\n",
    "# Since there are two classes ham and spam in the label, so 2*2 matrix, if n-classes then n*n matrix"
   ]
  },
  {
   "cell_type": "code",
   "execution_count": 53,
   "id": "a8410fb1",
   "metadata": {},
   "outputs": [
    {
     "data": {
      "text/plain": [
       "<sklearn.metrics._plot.confusion_matrix.ConfusionMatrixDisplay at 0x124624759f0>"
      ]
     },
     "execution_count": 53,
     "metadata": {},
     "output_type": "execute_result"
    },
    {
     "data": {
      "image/png": "[encoded data removed]",
      "text/plain": [
       "<Figure size 640x480 with 2 Axes>"
      ]
     },
     "metadata": {},
     "output_type": "display_data"
    }
   ],
   "source": [
    "from sklearn.metrics import ConfusionMatrixDisplay\n",
    "cmd = ConfusionMatrixDisplay(confusion_matrix = cm, display_labels = model.classes_)\n",
    "cmd.plot()"
   ]
  },
  {
   "cell_type": "markdown",
   "id": "d416f45a",
   "metadata": {},
   "source": [
    "### 2) Accuracy\n",
    "- Accuracy actually answers the question: ***How often is the model correct***\n",
    ">- Accuracy = (Count of Correct Answers of the Classifier)/(Count of all the Questions asked from Classifier)\n",
    ">- Accuracy = (TN + TP)/(TN + TP + FP + FN)\n",
    ">- Accuracy = (1410 + 210)/(1410 + 210 + 13 + 39)\n",
    ">- Accuracy is an evaluation metric used for classification algorithms that tells us what fraction of time the classifier are correct in the classification"
   ]
  },
  {
   "cell_type": "code",
   "execution_count": 54,
   "id": "bf8612f2",
   "metadata": {},
   "outputs": [
    {
     "name": "stdout",
     "output_type": "stream",
     "text": [
      "0.9688995215311005\n",
      "1620\n"
     ]
    }
   ],
   "source": [
    "from sklearn.metrics import accuracy_score\n",
    "print(accuracy_score(y_test, predictions))\n",
    "print(accuracy_score(y_test, predictions, normalize = False))"
   ]
  },
  {
   "cell_type": "markdown",
   "id": "ee9254ce",
   "metadata": {},
   "source": [
    "### 3) The Accuracy Paradox\n",
    "- Accuracy does not prove to be a good evaluation metric in case of imbalance data sets; which are very common in the real word scenarios\n",
    "- So, a classifier that always predicts the majority class, in highly imbalanced dataset, will always have a high accurcay score\n",
    "- Therefore, accuracy is not a good evaluation metrics, when the goal is to discover the rare events\n",
    "- ***Conclusion***: We should not rely solely on Accuracy as a metric. This is where precision, recall and F1 score comes in"
   ]
  },
  {
   "cell_type": "markdown",
   "id": "d7ca5738",
   "metadata": {},
   "source": [
    "### 4) Precision\n",
    "- Precision actually answers the question: ***When prediction is positive, how often it matches with the ground positives***\n",
    ">-   Precision = True Positives/Predicted Positives = TP / (TP + FP)\n",
    "- If we consider `ham` label as positive,\n",
    ">-   Precision = 1410 /(1410 + 13) = 0.9908\n",
    "- If we consider `span` label as positive\n",
    ">-   Precision = 210 / (210 + 39) = 0.8433"
   ]
  },
  {
   "cell_type": "code",
   "execution_count": 55,
   "id": "2da86ad3",
   "metadata": {},
   "outputs": [
    {
     "name": "stdout",
     "output_type": "stream",
     "text": [
      "0.9908643710470836\n",
      "0.8433734939759037\n"
     ]
    }
   ],
   "source": [
    "from sklearn.metrics import precision_score\n",
    "print(precision_score(y_test, predictions, pos_label = 'ham'))\n",
    "print(precision_score(y_test, predictions, pos_label = 'spam'))"
   ]
  },
  {
   "cell_type": "markdown",
   "id": "4984fb5c",
   "metadata": {},
   "source": [
    "### 5) Recall (Sensitivity)\n",
    "- Recall actually answers the question: ***When ground reality is positive, how often it is correct***\n",
    ">-   Recall = True Positives/Real Positives = TP / (TP + FN)\n",
    "- If we consider `ham` label as positive,\n",
    ">-   Precision = 1410 /(1410 + 39) = 0.9730\n",
    "- If we consider `span` label as positive\n",
    ">-   Precision = 210 / (210 + 13) = 0.9417\n",
    "- If recall is high, that means the classifier is good in identifying real patients"
   ]
  },
  {
   "cell_type": "code",
   "execution_count": 57,
   "id": "f599f4b1",
   "metadata": {},
   "outputs": [
    {
     "name": "stdout",
     "output_type": "stream",
     "text": [
      "0.9417040358744395\n",
      "0.9730848861283644\n"
     ]
    }
   ],
   "source": [
    "from sklearn.metrics import recall_score\n",
    "print(recall_score(y_test, predictions, pos_label = 'spam'))\n",
    "print(recall_score(y_test, predictions, pos_label = 'ham'))"
   ]
  },
  {
   "cell_type": "markdown",
   "id": "f7dde0f1",
   "metadata": {},
   "source": [
    "### 6) F-1 Score\n",
    "- Precision and accuracy alone do not solve the Accuracy Paradox. So, we combine both these metrics to create a new metric called F-1 Score, which is the harmonic mean of the precision and recall\n",
    "- We use harmonic mean instead of arithmetic mean because harmonic mean punishes the outliers more. In other words, the harmonic means goes to zero if either of recall and precision ends up being zero\n",
    ">- F1_score = (inv(inv(P) + inv(R)))/2\n",
    ">- F1_Score = (2PR/(P+R))\n",
    "- F1_Score will be high if both precision and recall are high\n",
    "- F1_Score will be low if either of precision and recall is low"
   ]
  },
  {
   "cell_type": "code",
   "execution_count": 58,
   "id": "4ad31eb5",
   "metadata": {},
   "outputs": [
    {
     "name": "stdout",
     "output_type": "stream",
     "text": [
      "              precision    recall  f1-score   support\n",
      "\n",
      "         ham       0.99      0.97      0.98      1449\n",
      "        spam       0.84      0.94      0.89       223\n",
      "\n",
      "    accuracy                           0.97      1672\n",
      "   macro avg       0.92      0.96      0.94      1672\n",
      "weighted avg       0.97      0.97      0.97      1672\n",
      "\n"
     ]
    }
   ],
   "source": [
    "from sklearn.metrics import classification_report\n",
    "print(classification_report(y_test, predictions))"
   ]
  }
 ],
 "metadata": {
  "kernelspec": {
   "display_name": "Python 3 (ipykernel)",
   "language": "python",
   "name": "python3"
  },
  "language_info": {
   "codemirror_mode": {
    "name": "ipython",
    "version": 3
   },
   "file_extension": ".py",
   "mimetype": "text/x-python",
   "name": "python",
   "nbconvert_exporter": "python",
   "pygments_lexer": "ipython3",
   "version": "3.10.9"
  }
 },
 "nbformat": 4,
 "nbformat_minor": 5
}
